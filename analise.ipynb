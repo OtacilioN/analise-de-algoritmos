{
 "metadata": {
  "language_info": {
   "codemirror_mode": {
    "name": "ipython",
    "version": 3
   },
   "file_extension": ".py",
   "mimetype": "text/x-python",
   "name": "python",
   "nbconvert_exporter": "python",
   "pygments_lexer": "ipython3",
   "version": "3.7.6-final"
  },
  "orig_nbformat": 2,
  "kernelspec": {
   "name": "python3",
   "display_name": "Python 3"
  }
 },
 "nbformat": 4,
 "nbformat_minor": 2,
 "cells": [
  {
   "source": [
    "### Este notebook contém uma análise de algum dos algoritmos mais famosos como, insertion sort, selection sort, bubble sort, quicksort, heapsort, mergesort, trim sort e couting sort.\n"
   ],
   "cell_type": "markdown",
   "metadata": {}
  },
  {
   "cell_type": "code",
   "execution_count": 139,
   "metadata": {},
   "outputs": [],
   "source": [
    "import time"
   ]
  },
  {
   "cell_type": "code",
   "execution_count": 140,
   "metadata": {},
   "outputs": [],
   "source": [
    "def lerArquivo(file):\n",
    "    dados = []\n",
    "    f = open(file, 'r')\n",
    "    for linha in f.readlines():\n",
    "        valores = linha.replace(\"\\n\", \"\").split(\"\\t\")\n",
    "        for valor in valores:\n",
    "            dados.append(int(valor))\n",
    "    f.close()\n",
    "    return dados\n"
   ]
  },
  {
   "cell_type": "code",
   "execution_count": 141,
   "metadata": {},
   "outputs": [
    {
     "output_type": "stream",
     "name": "stdout",
     "text": [
      "1000 5000 10000 20000 50000 75000 100000\n"
     ]
    }
   ],
   "source": [
    "dados_1k = lerArquivo('./entradas/1000.txt')\n",
    "dados_5k = lerArquivo('./entradas/5000.txt')\n",
    "dados_10k = lerArquivo('./entradas/10000.txt')\n",
    "dados_20k = lerArquivo('./entradas/20000.txt')\n",
    "dados_50k = lerArquivo('./entradas/50000.txt')\n",
    "dados_75k = lerArquivo('./entradas/75000.txt')\n",
    "dados_100k = lerArquivo('./entradas/100000.txt')\n",
    "\n",
    "print(\n",
    "    len(dados_1k), \n",
    "    len(dados_5k), \n",
    "    len(dados_10k),\n",
    "    len(dados_20k),\n",
    "    len(dados_50k),\n",
    "    len(dados_75k),\n",
    "    len(dados_100k)\n",
    ")\n"
   ]
  },
  {
   "cell_type": "code",
   "execution_count": 142,
   "metadata": {},
   "outputs": [],
   "source": [
    "def insertionSort(dados):\n",
    "    for indice in range (1, len(dados)):\n",
    "        chave = dados[indice]\n",
    "        pivo = indice-1\n",
    "        while pivo >= 0 and chave < dados[pivo]:\n",
    "            dados[pivo+1] = dados[pivo]\n",
    "            pivo -= 1\n",
    "        dados[pivo+1] = chave\n",
    "    return dados"
   ]
  },
  {
   "cell_type": "code",
   "execution_count": 143,
   "metadata": {},
   "outputs": [
    {
     "output_type": "stream",
     "name": "stdout",
     "text": [
      "1.391601800918579 segundos\n"
     ]
    }
   ],
   "source": [
    "tempo_inicial_insertion = time.time()\n",
    "insertionSort(dados_5k.copy())\n",
    "tempo_final_insertion = time.time()\n",
    "tempo_decorrido_insertion = tempo_final_insertion - tempo_inicial_insertion\n",
    "print(tempo_decorrido_insertion, \"segundos\")"
   ]
  },
  {
   "cell_type": "code",
   "execution_count": null,
   "metadata": {},
   "outputs": [],
   "source": []
  }
 ]
}